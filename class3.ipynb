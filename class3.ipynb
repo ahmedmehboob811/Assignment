{
  "nbformat": 4,
  "nbformat_minor": 0,
  "metadata": {
    "colab": {
      "provenance": [],
      "authorship_tag": "ABX9TyNqm6xGLqvukc9Uz+MNeCb2",
      "include_colab_link": true
    },
    "kernelspec": {
      "name": "python3",
      "display_name": "Python 3"
    },
    "language_info": {
      "name": "python"
    }
  },
  "cells": [
    {
      "cell_type": "markdown",
      "metadata": {
        "id": "view-in-github",
        "colab_type": "text"
      },
      "source": [
        "<a href=\"https://colab.research.google.com/github/ahmedmehboob811/Assignment/blob/main/class3.ipynb\" target=\"_parent\"><img src=\"https://colab.research.google.com/assets/colab-badge.svg\" alt=\"Open In Colab\"/></a>"
      ]
    },
    {
      "cell_type": "code",
      "execution_count": null,
      "metadata": {
        "colab": {
          "base_uri": "https://localhost:8080/"
        },
        "id": "JEQPvVPkO1Rg",
        "outputId": "b4887c5f-f665-4043-a468-ec9a71f9ac1d"
      },
      "outputs": [
        {
          "output_type": "stream",
          "name": "stdout",
          "text": [
            "heello world\n"
          ]
        }
      ],
      "source": [
        "print(\"heello world\")"
      ]
    },
    {
      "cell_type": "code",
      "source": [
        "lst = [1,2,3,4,5]\n",
        "lst2 = []\n",
        "for i in lst:\n",
        "  lst2.append(i*2)\n",
        "lst2"
      ],
      "metadata": {
        "colab": {
          "base_uri": "https://localhost:8080/"
        },
        "id": "Ps5Cyx0aPHlQ",
        "outputId": "f6bf6944-6848-4713-bf15-7acf30afd326"
      },
      "execution_count": null,
      "outputs": [
        {
          "output_type": "execute_result",
          "data": {
            "text/plain": [
              "[2, 4, 6, 8, 10]"
            ]
          },
          "metadata": {},
          "execution_count": 2
        }
      ]
    },
    {
      "cell_type": "code",
      "source": [
        "lst = [1,2,3,4,5]\n",
        "lst2 = [i*2 for i in lst]\n",
        "lst2"
      ],
      "metadata": {
        "colab": {
          "base_uri": "https://localhost:8080/"
        },
        "id": "T4egTouCPvV9",
        "outputId": "814353cf-04ab-4a0d-c6ad-11b8287b727e"
      },
      "execution_count": null,
      "outputs": [
        {
          "output_type": "execute_result",
          "data": {
            "text/plain": [
              "[2, 4, 6, 8, 10]"
            ]
          },
          "metadata": {},
          "execution_count": 3
        }
      ]
    },
    {
      "cell_type": "code",
      "source": [
        "lst1 = [1,2,3,4,5,6,7,8,9,10]\n",
        "lst2 = [i for i in lst1 if i>5]\n",
        "lst2"
      ],
      "metadata": {
        "colab": {
          "base_uri": "https://localhost:8080/"
        },
        "id": "UF5YhKwiP-1t",
        "outputId": "cb1df7c8-b07e-4a52-d9dd-e6846bc048e5"
      },
      "execution_count": null,
      "outputs": [
        {
          "output_type": "execute_result",
          "data": {
            "text/plain": [
              "[6, 7, 8, 9, 10]"
            ]
          },
          "metadata": {},
          "execution_count": 6
        }
      ]
    },
    {
      "cell_type": "code",
      "source": [
        "word = [\"apple\",\"mango\",\"banana\"]\n",
        "word1 = [w.upper() for w in word]\n",
        "word1"
      ],
      "metadata": {
        "colab": {
          "base_uri": "https://localhost:8080/"
        },
        "id": "qP4P3_6rQbcL",
        "outputId": "9dcc9d3b-731e-41da-fb06-40901665627d"
      },
      "execution_count": null,
      "outputs": [
        {
          "output_type": "execute_result",
          "data": {
            "text/plain": [
              "['APPLE', 'MANGO', 'BANANA']"
            ]
          },
          "metadata": {},
          "execution_count": 7
        }
      ]
    },
    {
      "cell_type": "code",
      "source": [
        "dc = {\"name\":\"umer\",\"age\":20}\n",
        "dc"
      ],
      "metadata": {
        "colab": {
          "base_uri": "https://localhost:8080/"
        },
        "id": "XAV8bYIAQqPX",
        "outputId": "260b4652-d526-4653-85d1-06d3266c1c0e"
      },
      "execution_count": null,
      "outputs": [
        {
          "output_type": "execute_result",
          "data": {
            "text/plain": [
              "{'name': 'umer', 'age': 20}"
            ]
          },
          "metadata": {},
          "execution_count": 8
        }
      ]
    },
    {
      "cell_type": "code",
      "source": [
        "dc = dict(name=\"umer\",age=20)\n",
        "dc"
      ],
      "metadata": {
        "colab": {
          "base_uri": "https://localhost:8080/"
        },
        "id": "gusJ3BMvQ_PT",
        "outputId": "37de2953-2355-44c3-e8c0-423717ba27aa"
      },
      "execution_count": null,
      "outputs": [
        {
          "output_type": "execute_result",
          "data": {
            "text/plain": [
              "{'name': 'umer', 'age': 20}"
            ]
          },
          "metadata": {},
          "execution_count": 9
        }
      ]
    },
    {
      "cell_type": "code",
      "source": [
        "t = (1,2,3,3,\"Bilal\",True,12.33)\n",
        "t\n",
        "type(t)\n",
        "id(t)\n",
        "print(t)"
      ],
      "metadata": {
        "colab": {
          "base_uri": "https://localhost:8080/"
        },
        "id": "_yen-Tk8RL7i",
        "outputId": "5ff877f0-211b-4621-adf8-9e43c0d0600a"
      },
      "execution_count": null,
      "outputs": [
        {
          "output_type": "stream",
          "name": "stdout",
          "text": [
            "(1, 2, 3, 3, 'Bilal', True, 12.33)\n"
          ]
        }
      ]
    },
    {
      "cell_type": "code",
      "source": [
        "t[4]"
      ],
      "metadata": {
        "colab": {
          "base_uri": "https://localhost:8080/",
          "height": 35
        },
        "id": "eJT7ME4ZRp1v",
        "outputId": "505d9450-b65e-4ed6-a1c1-5a8c04971e81"
      },
      "execution_count": null,
      "outputs": [
        {
          "output_type": "execute_result",
          "data": {
            "text/plain": [
              "'Bilal'"
            ],
            "application/vnd.google.colaboratory.intrinsic+json": {
              "type": "string"
            }
          },
          "metadata": {},
          "execution_count": 11
        }
      ]
    },
    {
      "cell_type": "code",
      "source": [
        "len(t)"
      ],
      "metadata": {
        "colab": {
          "base_uri": "https://localhost:8080/"
        },
        "id": "aaV_MiavRtz7",
        "outputId": "579ca27d-06a8-4cb2-955a-3ca86e6d2e40"
      },
      "execution_count": null,
      "outputs": [
        {
          "output_type": "execute_result",
          "data": {
            "text/plain": [
              "7"
            ]
          },
          "metadata": {},
          "execution_count": 12
        }
      ]
    },
    {
      "cell_type": "code",
      "source": [
        "t[0]=10"
      ],
      "metadata": {
        "colab": {
          "base_uri": "https://localhost:8080/",
          "height": 141
        },
        "id": "OJ8AGFX_RwOz",
        "outputId": "220a98a2-64a6-46f2-8e34-e26714a3715a"
      },
      "execution_count": null,
      "outputs": [
        {
          "output_type": "error",
          "ename": "TypeError",
          "evalue": "'tuple' object does not support item assignment",
          "traceback": [
            "\u001b[0;31m---------------------------------------------------------------------------\u001b[0m",
            "\u001b[0;31mTypeError\u001b[0m                                 Traceback (most recent call last)",
            "\u001b[0;32m<ipython-input-13-03ac23426653>\u001b[0m in \u001b[0;36m<cell line: 0>\u001b[0;34m()\u001b[0m\n\u001b[0;32m----> 1\u001b[0;31m \u001b[0mt\u001b[0m\u001b[0;34m[\u001b[0m\u001b[0;36m0\u001b[0m\u001b[0;34m]\u001b[0m\u001b[0;34m=\u001b[0m\u001b[0;36m10\u001b[0m\u001b[0;34m\u001b[0m\u001b[0;34m\u001b[0m\u001b[0m\n\u001b[0m",
            "\u001b[0;31mTypeError\u001b[0m: 'tuple' object does not support item assignment"
          ]
        }
      ]
    },
    {
      "cell_type": "code",
      "source": [
        "t = (1,2,3,3,\"Bilal\",True,12.33)\n",
        "print(id(t))\n",
        "t = list(t)\n",
        "t.append(10)\n",
        "print(t)\n",
        "t=tuple(t)\n",
        "print(id(t))\n",
        "print(t)"
      ],
      "metadata": {
        "colab": {
          "base_uri": "https://localhost:8080/"
        },
        "id": "DhirZSHHR5Xo",
        "outputId": "1c0d9e8a-36c2-4392-8830-4d88b1515998"
      },
      "execution_count": null,
      "outputs": [
        {
          "output_type": "stream",
          "name": "stdout",
          "text": [
            "134417731339072\n",
            "[1, 2, 3, 3, 'Bilal', True, 12.33, 10]\n",
            "134417732232000\n",
            "(1, 2, 3, 3, 'Bilal', True, 12.33, 10)\n"
          ]
        }
      ]
    },
    {
      "cell_type": "code",
      "source": [
        "t=(1,2,3,3,\"Bilal\",True,12.33,[1,2])\n",
        "print(id(t))\n",
        "t[7][0]=10\n",
        "print(id(t))\n",
        "print(t)"
      ],
      "metadata": {
        "colab": {
          "base_uri": "https://localhost:8080/"
        },
        "id": "kYTSe06LSqRm",
        "outputId": "bb478588-a453-437f-a658-6145ec4ae0d2"
      },
      "execution_count": null,
      "outputs": [
        {
          "output_type": "stream",
          "name": "stdout",
          "text": [
            "134417732232112\n",
            "134417732232112\n",
            "(1, 2, 3, 3, 'Bilal', True, 12.33, [10, 2])\n"
          ]
        }
      ]
    },
    {
      "cell_type": "code",
      "source": [
        "lst1=[1,2,3,4]\n",
        "a=1\n",
        "b=2\n",
        "c=3\n",
        "d=4\n",
        "print(id(lst1))\n",
        "print(id(lst[0]))\n",
        "print(id(a))\n",
        "print(id(lst1[1]))\n",
        "print(id(b))\n",
        "print(id(lst1[2]))\n",
        "print(id(c))"
      ],
      "metadata": {
        "colab": {
          "base_uri": "https://localhost:8080/"
        },
        "id": "MFDx-2aSTHqe",
        "outputId": "4e5c5cac-74f1-48b5-a881-cf827f7f226b"
      },
      "execution_count": null,
      "outputs": [
        {
          "output_type": "stream",
          "name": "stdout",
          "text": [
            "134417731873664\n",
            "10750856\n",
            "10750856\n",
            "10750888\n",
            "10750888\n",
            "10750920\n",
            "10750920\n"
          ]
        }
      ]
    },
    {
      "cell_type": "code",
      "source": [
        "t=tuple([1,2,3,4])\n",
        "t"
      ],
      "metadata": {
        "colab": {
          "base_uri": "https://localhost:8080/"
        },
        "id": "LAyswNbSTsMB",
        "outputId": "059485d4-b943-4683-cf99-6a30e183888c"
      },
      "execution_count": null,
      "outputs": [
        {
          "output_type": "execute_result",
          "data": {
            "text/plain": [
              "(1, 2, 3, 4)"
            ]
          },
          "metadata": {},
          "execution_count": 17
        }
      ]
    },
    {
      "cell_type": "code",
      "source": [
        "t[1:]"
      ],
      "metadata": {
        "colab": {
          "base_uri": "https://localhost:8080/"
        },
        "id": "e8HdDniOUBzS",
        "outputId": "3fb881f7-b88d-41c3-874a-b43360de72c1"
      },
      "execution_count": null,
      "outputs": [
        {
          "output_type": "execute_result",
          "data": {
            "text/plain": [
              "(2, 3, 4)"
            ]
          },
          "metadata": {},
          "execution_count": 18
        }
      ]
    },
    {
      "cell_type": "code",
      "source": [
        "s={2,3,4,\"Bilal\",True}\n",
        "print(s)"
      ],
      "metadata": {
        "colab": {
          "base_uri": "https://localhost:8080/"
        },
        "id": "yuH3C4FWUFdn",
        "outputId": "ee4dc651-cc85-4eaf-f7eb-cd08cd4559f1"
      },
      "execution_count": null,
      "outputs": [
        {
          "output_type": "stream",
          "name": "stdout",
          "text": [
            "{True, 2, 3, 4, 'Bilal'}\n"
          ]
        }
      ]
    },
    {
      "cell_type": "code",
      "source": [
        "s[0]"
      ],
      "metadata": {
        "colab": {
          "base_uri": "https://localhost:8080/",
          "height": 141
        },
        "id": "n-PNXAtEYIYT",
        "outputId": "5347f996-0223-4a80-c044-fc59c350395c"
      },
      "execution_count": null,
      "outputs": [
        {
          "output_type": "error",
          "ename": "TypeError",
          "evalue": "'set' object is not subscriptable",
          "traceback": [
            "\u001b[0;31m---------------------------------------------------------------------------\u001b[0m",
            "\u001b[0;31mTypeError\u001b[0m                                 Traceback (most recent call last)",
            "\u001b[0;32m<ipython-input-20-c9c96910e542>\u001b[0m in \u001b[0;36m<cell line: 0>\u001b[0;34m()\u001b[0m\n\u001b[0;32m----> 1\u001b[0;31m \u001b[0ms\u001b[0m\u001b[0;34m[\u001b[0m\u001b[0;36m0\u001b[0m\u001b[0;34m]\u001b[0m\u001b[0;34m\u001b[0m\u001b[0;34m\u001b[0m\u001b[0m\n\u001b[0m",
            "\u001b[0;31mTypeError\u001b[0m: 'set' object is not subscriptable"
          ]
        }
      ]
    },
    {
      "cell_type": "code",
      "source": [
        "s={2,3,4,\"Bilal\",True,[1,2]}\n",
        "print(s)"
      ],
      "metadata": {
        "colab": {
          "base_uri": "https://localhost:8080/",
          "height": 159
        },
        "id": "rL8TnGvJYKqg",
        "outputId": "f10bd552-ffd1-43b6-9b1a-bfcc2766f4f7"
      },
      "execution_count": null,
      "outputs": [
        {
          "output_type": "error",
          "ename": "TypeError",
          "evalue": "unhashable type: 'list'",
          "traceback": [
            "\u001b[0;31m---------------------------------------------------------------------------\u001b[0m",
            "\u001b[0;31mTypeError\u001b[0m                                 Traceback (most recent call last)",
            "\u001b[0;32m<ipython-input-21-598be1470f24>\u001b[0m in \u001b[0;36m<cell line: 0>\u001b[0;34m()\u001b[0m\n\u001b[0;32m----> 1\u001b[0;31m \u001b[0ms\u001b[0m\u001b[0;34m=\u001b[0m\u001b[0;34m{\u001b[0m\u001b[0;36m2\u001b[0m\u001b[0;34m,\u001b[0m\u001b[0;36m3\u001b[0m\u001b[0;34m,\u001b[0m\u001b[0;36m4\u001b[0m\u001b[0;34m,\u001b[0m\u001b[0;34m\"Bilal\"\u001b[0m\u001b[0;34m,\u001b[0m\u001b[0;32mTrue\u001b[0m\u001b[0;34m,\u001b[0m\u001b[0;34m[\u001b[0m\u001b[0;36m1\u001b[0m\u001b[0;34m,\u001b[0m\u001b[0;36m2\u001b[0m\u001b[0;34m]\u001b[0m\u001b[0;34m}\u001b[0m\u001b[0;34m\u001b[0m\u001b[0;34m\u001b[0m\u001b[0m\n\u001b[0m\u001b[1;32m      2\u001b[0m \u001b[0mprint\u001b[0m\u001b[0;34m(\u001b[0m\u001b[0ms\u001b[0m\u001b[0;34m)\u001b[0m\u001b[0;34m\u001b[0m\u001b[0;34m\u001b[0m\u001b[0m\n",
            "\u001b[0;31mTypeError\u001b[0m: unhashable type: 'list'"
          ]
        }
      ]
    },
    {
      "cell_type": "code",
      "source": [
        "s1={2,3,3,4,\"Bilal\",True}\n",
        "s2={4,5,3,7,\"Bilal\"}\n",
        "print(s1.difference(s2))\n",
        "print(s1-s2)\n",
        "s1"
      ],
      "metadata": {
        "colab": {
          "base_uri": "https://localhost:8080/"
        },
        "id": "hV3vARmPYWmj",
        "outputId": "ba3cccec-d481-4a15-eaaf-90ad5bcb0fd0"
      },
      "execution_count": null,
      "outputs": [
        {
          "output_type": "stream",
          "name": "stdout",
          "text": [
            "{True, 2}\n",
            "{True, 2}\n"
          ]
        },
        {
          "output_type": "execute_result",
          "data": {
            "text/plain": [
              "{2, 3, 4, 'Bilal', True}"
            ]
          },
          "metadata": {},
          "execution_count": 22
        }
      ]
    },
    {
      "cell_type": "code",
      "source": [
        "s1={1,2,3,4,5,6,\"Bilal\"}\n",
        "s2={4,5,3,7,\"Bilal\"}\n",
        "s1.difference_update(s2)\n",
        "\n",
        "print(s1)"
      ],
      "metadata": {
        "colab": {
          "base_uri": "https://localhost:8080/"
        },
        "id": "Mal2aF4lYzN5",
        "outputId": "309fc50a-a327-4695-9b14-53f422ff8ae1"
      },
      "execution_count": null,
      "outputs": [
        {
          "output_type": "stream",
          "name": "stdout",
          "text": [
            "{1, 2, 6}\n"
          ]
        }
      ]
    },
    {
      "cell_type": "code",
      "source": [
        "s1={1,2,3,5,6,\"Bilal\"}\n",
        "s2={4,5,3,7,\"Bilal\"}\n",
        "s1.discard(31)\n",
        "s1.remove(51)\n",
        "print(s1)"
      ],
      "metadata": {
        "id": "q0mCtdFiZOV2",
        "colab": {
          "base_uri": "https://localhost:8080/",
          "height": 193
        },
        "outputId": "2cf9933c-143e-4838-9d86-ba9945764a71"
      },
      "execution_count": 25,
      "outputs": [
        {
          "output_type": "error",
          "ename": "KeyError",
          "evalue": "51",
          "traceback": [
            "\u001b[0;31m---------------------------------------------------------------------------\u001b[0m",
            "\u001b[0;31mKeyError\u001b[0m                                  Traceback (most recent call last)",
            "\u001b[0;32m<ipython-input-25-118f98af86a5>\u001b[0m in \u001b[0;36m<cell line: 0>\u001b[0;34m()\u001b[0m\n\u001b[1;32m      2\u001b[0m \u001b[0ms2\u001b[0m\u001b[0;34m=\u001b[0m\u001b[0;34m{\u001b[0m\u001b[0;36m4\u001b[0m\u001b[0;34m,\u001b[0m\u001b[0;36m5\u001b[0m\u001b[0;34m,\u001b[0m\u001b[0;36m3\u001b[0m\u001b[0;34m,\u001b[0m\u001b[0;36m7\u001b[0m\u001b[0;34m,\u001b[0m\u001b[0;34m\"Bilal\"\u001b[0m\u001b[0;34m}\u001b[0m\u001b[0;34m\u001b[0m\u001b[0;34m\u001b[0m\u001b[0m\n\u001b[1;32m      3\u001b[0m \u001b[0ms1\u001b[0m\u001b[0;34m.\u001b[0m\u001b[0mdiscard\u001b[0m\u001b[0;34m(\u001b[0m\u001b[0;36m31\u001b[0m\u001b[0;34m)\u001b[0m\u001b[0;34m\u001b[0m\u001b[0;34m\u001b[0m\u001b[0m\n\u001b[0;32m----> 4\u001b[0;31m \u001b[0ms1\u001b[0m\u001b[0;34m.\u001b[0m\u001b[0mremove\u001b[0m\u001b[0;34m(\u001b[0m\u001b[0;36m51\u001b[0m\u001b[0;34m)\u001b[0m\u001b[0;34m\u001b[0m\u001b[0;34m\u001b[0m\u001b[0m\n\u001b[0m\u001b[1;32m      5\u001b[0m \u001b[0mprint\u001b[0m\u001b[0;34m(\u001b[0m\u001b[0ms1\u001b[0m\u001b[0;34m)\u001b[0m\u001b[0;34m\u001b[0m\u001b[0;34m\u001b[0m\u001b[0m\n",
            "\u001b[0;31mKeyError\u001b[0m: 51"
          ]
        }
      ]
    },
    {
      "cell_type": "code",
      "source": [
        "s1={1,2,3,4,5,6,\"Bilal\"}\n",
        "s2={4,5,3,7,\"Bilal\"}\n",
        "s1.intersection(s2)\n",
        "print(s1.pop())\n",
        "lst=[1,2,4]\n",
        "lst.pop\n",
        "lst"
      ],
      "metadata": {
        "colab": {
          "base_uri": "https://localhost:8080/"
        },
        "id": "70JPzX3FZ_Lo",
        "outputId": "c1b0f9e3-2426-4af0-9d7c-f9be311520f0"
      },
      "execution_count": 26,
      "outputs": [
        {
          "output_type": "stream",
          "name": "stdout",
          "text": [
            "1\n"
          ]
        },
        {
          "output_type": "execute_result",
          "data": {
            "text/plain": [
              "[1, 2, 4]"
            ]
          },
          "metadata": {},
          "execution_count": 26
        }
      ]
    },
    {
      "cell_type": "code",
      "source": [
        "s1={1,2,3,4,5,6,\"Bilal\"}\n",
        "s2={4,5,6,7,\"Bial\"}\n",
        "s1.union(s2)\n"
      ],
      "metadata": {
        "colab": {
          "base_uri": "https://localhost:8080/"
        },
        "id": "WSMmDaYhayPH",
        "outputId": "52521863-24ca-47ab-aee5-270586aea54b"
      },
      "execution_count": 27,
      "outputs": [
        {
          "output_type": "execute_result",
          "data": {
            "text/plain": [
              "{1, 2, 3, 4, 5, 6, 7, 'Bial', 'Bilal'}"
            ]
          },
          "metadata": {},
          "execution_count": 27
        }
      ]
    },
    {
      "cell_type": "code",
      "source": [
        "s1={1,2,3,5,6,\"Bial\"}\n",
        "s2={4,5,3,7,\"Bilal\"}\n",
        "s1|s2"
      ],
      "metadata": {
        "colab": {
          "base_uri": "https://localhost:8080/"
        },
        "id": "1FfLgr_Za_mg",
        "outputId": "4432832f-25e2-412d-a3ee-7bf57bf111ae"
      },
      "execution_count": 28,
      "outputs": [
        {
          "output_type": "execute_result",
          "data": {
            "text/plain": [
              "{1, 2, 3, 4, 5, 6, 7, 'Bial', 'Bilal'}"
            ]
          },
          "metadata": {},
          "execution_count": 28
        }
      ]
    },
    {
      "cell_type": "code",
      "source": [
        "s1={1,2,3,5,6,\"Bial\"}\n",
        "s2={4,5,3,7,\"Bilal\"}\n",
        "s1.symmetric_difference(s2)\n",
        "print(s1^s2)"
      ],
      "metadata": {
        "colab": {
          "base_uri": "https://localhost:8080/"
        },
        "id": "m2vUf3dMbMUe",
        "outputId": "f79a7830-7a86-486b-a119-11830bbfcebc"
      },
      "execution_count": 29,
      "outputs": [
        {
          "output_type": "stream",
          "name": "stdout",
          "text": [
            "{1, 2, 4, 6, 7, 'Bial', 'Bilal'}\n"
          ]
        }
      ]
    },
    {
      "cell_type": "code",
      "source": [
        "fs = frozenset([1,2,3,4])\n",
        "fs"
      ],
      "metadata": {
        "id": "Gzx57zKrbcEs"
      },
      "execution_count": null,
      "outputs": []
    },
    {
      "cell_type": "code",
      "source": [
        "name=\"bilal\"\n",
        "print((name+\" \")*5)"
      ],
      "metadata": {
        "colab": {
          "base_uri": "https://localhost:8080/"
        },
        "id": "hQxtICM_bjRK",
        "outputId": "940e97e8-5dbc-4d33-a978-c4e1a3d3679b"
      },
      "execution_count": 31,
      "outputs": [
        {
          "output_type": "stream",
          "name": "stdout",
          "text": [
            "bilal bilal bilal bilal bilal \n"
          ]
        }
      ]
    },
    {
      "cell_type": "code",
      "source": [
        "for i in range(1,5):\n",
        "  print(\"*\"*i)"
      ],
      "metadata": {
        "colab": {
          "base_uri": "https://localhost:8080/"
        },
        "id": "hY8IsAVqbuDZ",
        "outputId": "612b6d70-431c-4d20-f806-ce6e158f6b8e"
      },
      "execution_count": 32,
      "outputs": [
        {
          "output_type": "stream",
          "name": "stdout",
          "text": [
            "*\n",
            "**\n",
            "***\n",
            "****\n"
          ]
        }
      ]
    },
    {
      "cell_type": "code",
      "source": [
        "for i in range(1,5):\n",
        "  print(\"*\"*(5-i))"
      ],
      "metadata": {
        "colab": {
          "base_uri": "https://localhost:8080/"
        },
        "id": "8ClXCzIXb4HI",
        "outputId": "bf8443b3-1c56-4ea5-fda5-cc8c0dcc5ab4"
      },
      "execution_count": 33,
      "outputs": [
        {
          "output_type": "stream",
          "name": "stdout",
          "text": [
            "****\n",
            "***\n",
            "**\n",
            "*\n"
          ]
        }
      ]
    },
    {
      "cell_type": "code",
      "source": [
        "for i in range(1,4):\n",
        "  print(\"*\"*i*2)"
      ],
      "metadata": {
        "colab": {
          "base_uri": "https://localhost:8080/"
        },
        "id": "JWuLd_xYb_S4",
        "outputId": "61f37d0c-7093-4f71-ac7e-351bf5a436ec"
      },
      "execution_count": 47,
      "outputs": [
        {
          "output_type": "stream",
          "name": "stdout",
          "text": [
            "**\n",
            "****\n",
            "******\n"
          ]
        }
      ]
    },
    {
      "cell_type": "code",
      "source": [
        "lst=[1,2,3]\n",
        "print(lst*3)"
      ],
      "metadata": {
        "colab": {
          "base_uri": "https://localhost:8080/"
        },
        "id": "v_IR3PKcc77s",
        "outputId": "251f3594-ba59-4483-9753-d42e8f7a68e8"
      },
      "execution_count": 48,
      "outputs": [
        {
          "output_type": "stream",
          "name": "stdout",
          "text": [
            "[1, 2, 3, 1, 2, 3, 1, 2, 3]\n"
          ]
        }
      ]
    },
    {
      "cell_type": "code",
      "source": [
        "a=True\n",
        "a=[1,2,3]\n",
        "a={'a':1}\n",
        "a=\"adfad\"\n",
        "a=12\n",
        "a=False\n",
        "a=[]\n",
        "a={}\n",
        "a=0\n",
        "a=\"\"\n",
        "a=None\n",
        "if a:\n",
        "  print(\"True\")\n",
        "else:\n",
        "  print(\"False\")"
      ],
      "metadata": {
        "colab": {
          "base_uri": "https://localhost:8080/"
        },
        "id": "B7RH1L1QeY5Z",
        "outputId": "f2e2296c-a175-4397-e093-680009746a62"
      },
      "execution_count": 50,
      "outputs": [
        {
          "output_type": "stream",
          "name": "stdout",
          "text": [
            "False\n"
          ]
        }
      ]
    },
    {
      "cell_type": "code",
      "source": [
        "def my_func(name,age):\n",
        "  return f\"hello my dear{name},his age is {age}\"\n",
        "\n",
        "print(my_func(\"gulzari\",90))\n"
      ],
      "metadata": {
        "colab": {
          "base_uri": "https://localhost:8080/"
        },
        "id": "qpnZuQ1oemP_",
        "outputId": "7dc6abb4-1b22-4f17-b160-5c07dc5ffd76"
      },
      "execution_count": 51,
      "outputs": [
        {
          "output_type": "stream",
          "name": "stdout",
          "text": [
            "hello my deargulzari,his age is 90\n"
          ]
        }
      ]
    },
    {
      "cell_type": "code",
      "source": [
        "def my_func(*keyword):\n",
        "  print(keyword)\n",
        "my_func()"
      ],
      "metadata": {
        "colab": {
          "base_uri": "https://localhost:8080/"
        },
        "id": "oHfbmMfvfGYe",
        "outputId": "3e7b40e3-5c53-4674-d57e-04a79afadaed"
      },
      "execution_count": 53,
      "outputs": [
        {
          "output_type": "stream",
          "name": "stdout",
          "text": [
            "()\n"
          ]
        }
      ]
    },
    {
      "cell_type": "code",
      "source": [
        "def my_func(*keyword,name):\n",
        "  print(name)\n",
        "  print(keyword)\n",
        "\n",
        "my_func(\"ratan\",\"chaman\",name=\"gulzari\")"
      ],
      "metadata": {
        "colab": {
          "base_uri": "https://localhost:8080/"
        },
        "id": "xQvVIxXKfV9x",
        "outputId": "ebeb564a-f379-4dcc-9769-a239dd261dbd"
      },
      "execution_count": 54,
      "outputs": [
        {
          "output_type": "stream",
          "name": "stdout",
          "text": [
            "gulzari\n",
            "('ratan', 'chaman')\n"
          ]
        }
      ]
    },
    {
      "cell_type": "code",
      "source": [
        "def my_func(**keyword):\n",
        " print(keyword)\n",
        "\n",
        "my_func(name=\"gulzari\",age=90)"
      ],
      "metadata": {
        "colab": {
          "base_uri": "https://localhost:8080/"
        },
        "id": "Qmmxz6sHfoaq",
        "outputId": "38d37f0d-f494-4703-bae8-3f0371c3e276"
      },
      "execution_count": 56,
      "outputs": [
        {
          "output_type": "stream",
          "name": "stdout",
          "text": [
            "{'name': 'gulzari', 'age': 90}\n"
          ]
        }
      ]
    }
  ]
}